{
 "cells": [
  {
   "cell_type": "code",
   "execution_count": 92,
   "metadata": {},
   "outputs": [],
   "source": [
    "import json\n",
    "import os\n",
    "import datetime\n",
    "from unidecode import unidecode"
   ]
  },
  {
   "cell_type": "code",
   "execution_count": 111,
   "metadata": {},
   "outputs": [],
   "source": [
    "with open(\"../data/raw_lyrics.json\", \"r\") as fh:\n",
    "    data = json.load(fh)"
   ]
  },
  {
   "cell_type": "code",
   "execution_count": 112,
   "metadata": {},
   "outputs": [],
   "source": [
    "for song in data:\n",
    "    for i in range(len(song[\"lyrics\"])):\n",
    "        song[\"lyrics\"][i] = unidecode(song[\"lyrics\"][i])\n",
    "    metadata_keys = list(song[\"metadata\"].keys())\n",
    "    for k in metadata_keys:\n",
    "        new_k = k.lower().replace(\"©\", \"\").replace(\"℗\", \"\").replace(\"&\",\"\").strip().replace(\" \", \"_\")\n",
    "        song[\"metadata\"][new_k] = song[\"metadata\"].pop(k)\n",
    "    for k, v in song[\"metadata\"].items():\n",
    "        if isinstance(v, list):\n",
    "            song[\"metadata\"][k] = \", \".join(sorted(v))"
   ]
  },
  {
   "cell_type": "code",
   "execution_count": 113,
   "metadata": {},
   "outputs": [],
   "source": [
    "annotations = []\n",
    "for song in data:\n",
    "    section_start = -1\n",
    "    annot = []\n",
    "    for i, line in enumerate(song[\"lyrics\"]):\n",
    "        if line.startswith(\"[\"):\n",
    "            if section_start != -1:\n",
    "                annot.append((label, section_start, i))\n",
    "            section_start = i\n",
    "            label = line[1:-1]\n",
    "    if section_start != -1:\n",
    "        annot.append((label, section_start, i))\n",
    "    else:\n",
    "        annot.append(())\n",
    "    annotations.append(annot)"
   ]
  },
  {
   "cell_type": "code",
   "execution_count": 114,
   "metadata": {},
   "outputs": [],
   "source": [
    "for song, annots in zip(data, annotations):\n",
    "    lyrics = song[\"lyrics\"]\n",
    "    clean_lyrics = []\n",
    "    song[\"annotations\"] = []\n",
    "    for i, annot in enumerate(annots):\n",
    "        if len(annot) != 3:\n",
    "            break\n",
    "        label, start, end = annot\n",
    "        clean_lyrics += lyrics[start+1:end]\n",
    "        song[\"annotations\"].append({\"section\": label, \"start\": start-i, \"end\": end-(i+1)})\n",
    "    if len(clean_lyrics):\n",
    "        song[\"lyrics\"] = clean_lyrics\n",
    "        "
   ]
  },
  {
   "cell_type": "code",
   "execution_count": 115,
   "metadata": {},
   "outputs": [],
   "source": [
    "for song in data:\n",
    "    release_date = song[\"metadata\"].get(\"release_date\", \"\")\n",
    "    if release_date:\n",
    "        try:\n",
    "            if len(release_date) > 4:\n",
    "                release_date = datetime.datetime.strptime(release_date, \"%B %d, %Y\")\n",
    "                release_date = release_date.strftime(\"%d-%m-%Y\")\n",
    "            else: \n",
    "                release_date = datetime.datetime.strptime(release_date, \"%Y\")\n",
    "                release_date = release_date.strftime(\"%Y\")\n",
    "            \n",
    "        except:\n",
    "            print(song)\n",
    "            raise\n",
    "    song[\"metadata\"][\"release_date\"] = release_date"
   ]
  },
  {
   "cell_type": "code",
   "execution_count": 120,
   "metadata": {},
   "outputs": [],
   "source": [
    "with open(os.path.join(\"../data\", \"lyrics.json\"), \"w\") as fh:\n",
    "    json.dump(data, fh, ensure_ascii=False, indent=4)"
   ]
  }
 ],
 "metadata": {
  "kernelspec": {
   "display_name": "Python 3",
   "language": "python",
   "name": "python3"
  },
  "language_info": {
   "codemirror_mode": {
    "name": "ipython",
    "version": 3
   },
   "file_extension": ".py",
   "mimetype": "text/x-python",
   "name": "python",
   "nbconvert_exporter": "python",
   "pygments_lexer": "ipython3",
   "version": "3.8.2"
  }
 },
 "nbformat": 4,
 "nbformat_minor": 4
}
