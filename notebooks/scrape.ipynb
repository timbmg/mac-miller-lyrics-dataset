{
 "cells": [
  {
   "cell_type": "code",
   "execution_count": 1,
   "metadata": {},
   "outputs": [],
   "source": [
    "import json\n",
    "import time\n",
    "import re\n",
    "import os\n",
    "import random\n",
    "from typing import Dict, List, Union, Tuple\n",
    "\n",
    "import requests\n",
    "from bs4 import BeautifulSoup, Tag\n",
    "from tqdm.notebook import tqdm"
   ]
  },
  {
   "cell_type": "code",
   "execution_count": 2,
   "metadata": {},
   "outputs": [],
   "source": [
    "def get_soup(url: str, attempts:int = 10) -> BeautifulSoup:\n",
    "    \"\"\"request a given url and return BeautifulSoup object\"\"\"\n",
    "    try:\n",
    "        headers = {\"User-Agent\": \"Mozilla/5.0 (Windows NT 10.0; Win64; x64) AppleWebKit/537.36 (KHTML, like Gecko) Chrome/70.0.3538.77 Safari/537.36\"}\n",
    "        res = requests.get(url, headers=headers)\n",
    "    except:\n",
    "        raise\n",
    "    soup = BeautifulSoup(res.content)\n",
    "    if len(soup.find_all(\"div\", {\"class\" : re.compile('SongInfo__Credit*')})) == 0 and attempts > 0:\n",
    "        time.sleep(random.random())\n",
    "        soup = get_soup(url, attempts-1)\n",
    "    return soup"
   ]
  },
  {
   "cell_type": "code",
   "execution_count": 3,
   "metadata": {},
   "outputs": [],
   "source": [
    "def get_songs_url_from_album_page(album_url: str) -> List[str]:\n",
    "    \"\"\"given an album page, returns all song urls\"\"\"\n",
    "    soup = get_soup(album_url)\n",
    "    return [title.parent[\"href\"] for title in soup.find_all(class_=\"chart_row-content-title\")]"
   ]
  },
  {
   "cell_type": "code",
   "execution_count": 4,
   "metadata": {},
   "outputs": [],
   "source": [
    "def get_lyrics_text(song_soup):\n",
    "    \"\"\"extracts the lyrics from a song page\"\"\"\n",
    "    text = []\n",
    "    lyrics_div = song_soup.select(\"div[class=lyrics]\")\n",
    "    if not len(lyrics_div):\n",
    "        lyrics_div = song_soup.find_all(\"div\", {\"class\": re.compile(\"Lyrics__Container*\")})\n",
    "        if not len(lyrics_div):\n",
    "            lyrics_div = song_soup.find_all(\"div\", {\"class\": re.compile(\"LyricsPlaceholder__Message*\")})[0]\n",
    "            if \"instrumental\" in lyrics_div.text:\n",
    "                return Tag(name=\"div\")\n",
    "        for ld in lyrics_div:\n",
    "            for br in ld.find_all(\"br\"):\n",
    "                br.replace_with(\"\\n\")\n",
    "    for ld in lyrics_div:\n",
    "        text.extend(ld.text.strip().split(\"\\n\"))\n",
    "    return text"
   ]
  },
  {
   "cell_type": "code",
   "execution_count": 5,
   "metadata": {},
   "outputs": [],
   "source": [
    "def get_song_lyrics(song_soup) -> str:\n",
    "    lyrics = get_lyrics_text(song_soup)\n",
    "    lyrics = list(filter(lambda line: len(line) > 0, lyrics))\n",
    "    return lyrics"
   ]
  },
  {
   "cell_type": "code",
   "execution_count": 6,
   "metadata": {},
   "outputs": [],
   "source": [
    "def get_song_title(song_soup):\n",
    "    title = song_soup.find_all(\"h1\", {\"class\" : re.compile('SongHeader__Title*')})\n",
    "    if len(title):\n",
    "        pass\n",
    "    else:\n",
    "        title = song_soup.find_all(\"h1\", {\"class\" : re.compile('header_with_cover_art-primary_info-title')})\n",
    "    title = title[0].text\n",
    "    return title"
   ]
  },
  {
   "cell_type": "code",
   "execution_count": 7,
   "metadata": {},
   "outputs": [],
   "source": [
    "def get_album_title(song_soup):\n",
    "    album_title = song_soup.find_all(\"div\", {\"class\": re.compile(\"HeaderTracklist__Album-*\")})\n",
    "    if len(album_title):\n",
    "        album_title = album_title[-1].text\n",
    "    else:\n",
    "        album_title = song_soup.find_all(\"a\", {\"class\": re.compile(\"song_album-info-title\")})[0].text.strip()\n",
    "    return album_title"
   ]
  },
  {
   "cell_type": "code",
   "execution_count": 8,
   "metadata": {},
   "outputs": [],
   "source": [
    "def get_song_metadata(song_soup):\n",
    "    metadata = {}\n",
    "    metadata[\"title\"] = get_song_title(song_soup)    \n",
    "    metadata[\"album_title\"] = get_album_title(song_soup)\n",
    "    for song_credit in song_soup.find_all(\"div\", {\"class\" : re.compile('SongInfo__Credit*')}):\n",
    "        values = []\n",
    "        for i, x in enumerate(song_credit):\n",
    "            if isinstance(x, Tag):\n",
    "                if i == 0:\n",
    "                    label = x.text\n",
    "                else:\n",
    "                    values.append(x.text)\n",
    "        metadata[label] = values\n",
    "    return metadata"
   ]
  },
  {
   "cell_type": "code",
   "execution_count": 9,
   "metadata": {},
   "outputs": [],
   "source": [
    "def get_song_data_form_song_url(song_url: str) -> Dict[str, Union[str, Dict]]:\n",
    "    print(song_url)\n",
    "    soup = get_soup(song_url)\n",
    "    lyrics = get_song_lyrics(soup)\n",
    "    metadata = get_song_metadata(soup)\n",
    "    return {\n",
    "        \"lyrics\": lyrics,\n",
    "        \"metadata\": metadata\n",
    "    }"
   ]
  },
  {
   "cell_type": "code",
   "execution_count": 10,
   "metadata": {},
   "outputs": [],
   "source": [
    "album_urls = [\n",
    "    \"https://genius.com/albums/Mac-miller/K-i-d-s-deluxe\",\n",
    "    \"https://genius.com/albums/Mac-miller/K-i-d-s-re-release\",\n",
    "    \"https://genius.com/albums/Mac-miller/Circles-deluxe\",\n",
    "    \"https://genius.com/albums/Mac-miller/Circles\",\n",
    "    \"https://genius.com/albums/Mac-miller/Spotify-singles\",\n",
    "    \"https://genius.com/albums/Mac-miller/Swimming\",\n",
    "    \"https://genius.com/albums/Mac-miller/The-divine-feminine\",\n",
    "    \"https://genius.com/albums/Mac-miller/Go-od-am\",\n",
    "    \"https://genius.com/albums/Mac-miller/Faces\",\n",
    "    \"https://genius.com/albums/Mac-miller/Live-from-space\",\n",
    "    \"https://genius.com/albums/Mac-miller/Watching-movies-with-the-sound-off\",\n",
    "    \"https://genius.com/albums/Mac-miller/Live-from-london\",\n",
    "    \"https://genius.com/albums/Mac-miller/Macadelic\",\n",
    "    \"https://genius.com/albums/Mac-miller/Blue-slide-park\",\n",
    "    \"https://genius.com/albums/Mac-miller/I-love-life-thank-you\",\n",
    "    \"https://genius.com/albums/Mac-miller/On-and-on-and-beyond\",\n",
    "    \"https://genius.com/albums/Mac-miller/Best-day-ever\",\n",
    "    \"https://genius.com/albums/Mac-miller/K-i-d-s\",\n",
    "    \"https://genius.com/albums/Mac-miller/The-high-life\",\n",
    "    \"https://genius.com/albums/Mac-miller/The-jukebox-prelude-to-class-clown\",\n",
    "    \"https://genius.com/albums/Mac-miller/But-my-mackin-aint-easy-original-version\",\n",
    "    \"https://genius.com/albums/Mac-miller/But-my-mackin-aint-easy\",\n",
    "    \"https://genius.com/albums/Mac-miller/Balloonerism\",\n",
    "    \"https://genius.com/albums/Mac-miller/Unreleased-songs\",\n",
    "]\n",
    "\n",
    "songs404 = [\n",
    "    \"https://genius.com/Mac-miller-unreleased-songs-discography-list-annotated\",\n",
    "    \"https://genius.com/Mac-miller-we-brothers-in-arms-lyrics\",\n",
    "    \"https://genius.com/Mac-miller-too-green-scene-lyrics\",\n",
    "    \"https://genius.com/Mac-miller-haters-last-meal-lyrics\",\n",
    "    \"https://genius.com/Mac-miller-crooklyn-dodgers-lyrics\",\n",
    "    \"https://genius.com/Mac-miller-how-we-do-lyrics\",\n",
    "    \"https://genius.com/Mac-miller-the-world-is-mine-lyrics\",\n",
    "    \"https://genius.com/Mac-miller-war-games-freestyle-lyrics\",\n",
    "    \"https://genius.com/Mac-miller-mac-is-like-lyrics\",\n",
    "    \"https://genius.com/Mac-miller-it-gets-no-better-than-this-lyrics\",\n",
    "    \"https://genius.com/Mac-miller-coffee-shop-freestyle-lyrics\"\n",
    "]"
   ]
  },
  {
   "cell_type": "code",
   "execution_count": 11,
   "metadata": {},
   "outputs": [],
   "source": [
    "data_dir = \"../data\""
   ]
  },
  {
   "cell_type": "code",
   "execution_count": 12,
   "metadata": {
    "scrolled": true
   },
   "outputs": [
    {
     "data": {
      "application/vnd.jupyter.widget-view+json": {
       "model_id": "4a1ed12109eb41aa8deda15f558818f0",
       "version_major": 2,
       "version_minor": 0
      },
      "text/plain": [
       "HBox(children=(HTML(value=''), FloatProgress(value=0.0, max=24.0), HTML(value='')))"
      ]
     },
     "metadata": {},
     "output_type": "display_data"
    },
    {
     "data": {
      "application/vnd.jupyter.widget-view+json": {
       "model_id": "ca91112b67464cc89c9dddb1969a86bb",
       "version_major": 2,
       "version_minor": 0
      },
      "text/plain": [
       "HBox(children=(HTML(value=''), FloatProgress(value=0.0, max=18.0), HTML(value='')))"
      ]
     },
     "metadata": {},
     "output_type": "display_data"
    },
    {
     "name": "stdout",
     "output_type": "stream",
     "text": [
      "https://genius.com/Mac-miller-kickin-incredibly-dope-shit-intro-lyrics\n",
      "https://genius.com/Mac-miller-outside-lyrics\n",
      "https://genius.com/Mac-miller-get-em-up-lyrics\n",
      "https://genius.com/Mac-miller-nikes-on-my-feet-lyrics\n",
      "https://genius.com/Mac-miller-senior-skip-day-lyrics\n",
      "https://genius.com/Mac-miller-the-spins-lyrics\n",
      "https://genius.com/Mac-miller-dont-mind-if-i-do-lyrics\n",
      "https://genius.com/Mac-miller-paper-route-lyrics\n",
      "https://genius.com/Mac-miller-good-evening-lyrics\n",
      "https://genius.com/Mac-miller-ride-around-lyrics\n",
      "https://genius.com/Mac-miller-knock-knock-lyrics\n",
      "https://genius.com/Mac-miller-mad-flava-heavy-flow-interlude-lyrics\n",
      "https://genius.com/Mac-miller-kool-aid-and-frozen-pizza-lyrics\n",
      "https://genius.com/Mac-miller-all-i-want-is-you-lyrics\n",
      "https://genius.com/Mac-miller-poppy-lyrics\n",
      "https://genius.com/Mac-miller-face-in-the-crowd-lyrics\n",
      "https://genius.com/Mac-miller-ayye-lyrics\n",
      "https://genius.com/Mac-miller-back-in-the-day-lyrics\n",
      "\n"
     ]
    },
    {
     "data": {
      "application/vnd.jupyter.widget-view+json": {
       "model_id": "1c7bd88c0f0e479bbfa8f49c70c684c7",
       "version_major": 2,
       "version_minor": 0
      },
      "text/plain": [
       "HBox(children=(HTML(value=''), FloatProgress(value=0.0, max=16.0), HTML(value='')))"
      ]
     },
     "metadata": {},
     "output_type": "display_data"
    },
    {
     "name": "stdout",
     "output_type": "stream",
     "text": [
      "\n"
     ]
    },
    {
     "data": {
      "application/vnd.jupyter.widget-view+json": {
       "model_id": "54273013a4d34261b6910c05d153d3cc",
       "version_major": 2,
       "version_minor": 0
      },
      "text/plain": [
       "HBox(children=(HTML(value=''), FloatProgress(value=0.0, max=14.0), HTML(value='')))"
      ]
     },
     "metadata": {},
     "output_type": "display_data"
    },
    {
     "name": "stdout",
     "output_type": "stream",
     "text": [
      "https://genius.com/Mac-miller-circles-lyrics\n",
      "https://genius.com/Mac-miller-complicated-lyrics\n",
      "https://genius.com/Mac-miller-blue-world-lyrics\n",
      "https://genius.com/Mac-miller-good-news-lyrics\n",
      "https://genius.com/Mac-miller-i-can-see-lyrics\n",
      "https://genius.com/Mac-miller-everybody-lyrics\n",
      "https://genius.com/Mac-miller-woods-lyrics\n",
      "https://genius.com/Mac-miller-hand-me-downs-lyrics\n",
      "https://genius.com/Mac-miller-thats-on-me-lyrics\n",
      "https://genius.com/Mac-miller-hands-lyrics\n",
      "https://genius.com/Mac-miller-surf-lyrics\n",
      "https://genius.com/Mac-miller-once-a-day-lyrics\n",
      "https://genius.com/Mac-miller-right-lyrics\n",
      "https://genius.com/Mac-miller-floating-lyrics\n",
      "\n"
     ]
    },
    {
     "data": {
      "application/vnd.jupyter.widget-view+json": {
       "model_id": "e708dc380908459c96e42002d4cf917f",
       "version_major": 2,
       "version_minor": 0
      },
      "text/plain": [
       "HBox(children=(HTML(value=''), FloatProgress(value=0.0, max=12.0), HTML(value='')))"
      ]
     },
     "metadata": {},
     "output_type": "display_data"
    },
    {
     "name": "stdout",
     "output_type": "stream",
     "text": [
      "\n"
     ]
    },
    {
     "data": {
      "application/vnd.jupyter.widget-view+json": {
       "model_id": "1edfe77b3efa4a7ba144afb269d13f8b",
       "version_major": 2,
       "version_minor": 0
      },
      "text/plain": [
       "HBox(children=(HTML(value=''), FloatProgress(value=0.0, max=2.0), HTML(value='')))"
      ]
     },
     "metadata": {},
     "output_type": "display_data"
    },
    {
     "name": "stdout",
     "output_type": "stream",
     "text": [
      "https://genius.com/Mac-miller-dunno-spotify-singles-lyrics\n",
      "https://genius.com/Mac-miller-nothing-from-nothing-lyrics\n",
      "\n"
     ]
    },
    {
     "data": {
      "application/vnd.jupyter.widget-view+json": {
       "model_id": "b31c0fc5c5ca4b2a9a7b0fb40175e6ed",
       "version_major": 2,
       "version_minor": 0
      },
      "text/plain": [
       "HBox(children=(HTML(value=''), FloatProgress(value=0.0, max=13.0), HTML(value='')))"
      ]
     },
     "metadata": {},
     "output_type": "display_data"
    },
    {
     "name": "stdout",
     "output_type": "stream",
     "text": [
      "https://genius.com/Mac-miller-come-back-to-earth-lyrics\n",
      "https://genius.com/Mac-miller-hurt-feelings-lyrics\n",
      "https://genius.com/Mac-miller-whats-the-use-lyrics\n",
      "https://genius.com/Mac-miller-perfecto-lyrics\n",
      "https://genius.com/Mac-miller-self-care-lyrics\n",
      "https://genius.com/Mac-miller-wings-lyrics\n",
      "https://genius.com/Mac-miller-ladders-lyrics\n",
      "https://genius.com/Mac-miller-small-worlds-lyrics\n",
      "https://genius.com/Mac-miller-conversation-pt-1-lyrics\n",
      "https://genius.com/Mac-miller-dunno-lyrics\n",
      "https://genius.com/Mac-miller-jet-fuel-lyrics\n",
      "https://genius.com/Mac-miller-2009-lyrics\n",
      "https://genius.com/Mac-miller-so-it-goes-lyrics\n",
      "\n"
     ]
    },
    {
     "data": {
      "application/vnd.jupyter.widget-view+json": {
       "model_id": "9e0a1ce9715942cda0f9e15866b1889f",
       "version_major": 2,
       "version_minor": 0
      },
      "text/plain": [
       "HBox(children=(HTML(value=''), FloatProgress(value=0.0, max=11.0), HTML(value='')))"
      ]
     },
     "metadata": {},
     "output_type": "display_data"
    },
    {
     "name": "stdout",
     "output_type": "stream",
     "text": [
      "https://genius.com/Mac-miller-congratulations-lyrics\n",
      "https://genius.com/Mac-miller-dang-lyrics\n",
      "https://genius.com/Mac-miller-stay-lyrics\n",
      "https://genius.com/Mac-miller-skin-lyrics\n",
      "https://genius.com/Mac-miller-cinderella-lyrics\n",
      "https://genius.com/Mac-miller-planet-god-damn-lyrics\n",
      "https://genius.com/Mac-miller-soulmate-lyrics\n",
      "https://genius.com/Mac-miller-we-lyrics\n",
      "https://genius.com/Mac-miller-my-favorite-part-lyrics\n",
      "https://genius.com/Mac-miller-god-is-fair-sexy-nasty-lyrics\n",
      "https://genius.com/Mac-miller-dang-radio-edit-lyrics\n",
      "\n"
     ]
    },
    {
     "data": {
      "application/vnd.jupyter.widget-view+json": {
       "model_id": "b11b7ce6775e4a369bad54b546a45881",
       "version_major": 2,
       "version_minor": 0
      },
      "text/plain": [
       "HBox(children=(HTML(value=''), FloatProgress(value=0.0, max=17.0), HTML(value='')))"
      ]
     },
     "metadata": {},
     "output_type": "display_data"
    },
    {
     "name": "stdout",
     "output_type": "stream",
     "text": [
      "https://genius.com/Mac-miller-doors-lyrics\n",
      "https://genius.com/Mac-miller-brand-name-lyrics\n",
      "https://genius.com/Mac-miller-rush-hour-lyrics\n",
      "https://genius.com/Mac-miller-two-matches-lyrics\n",
      "https://genius.com/Mac-miller-100-grandkids-lyrics\n",
      "https://genius.com/Mac-miller-time-flies-lyrics\n",
      "https://genius.com/Mac-miller-weekend-lyrics\n",
      "https://genius.com/Mac-miller-clubhouse-lyrics\n",
      "https://genius.com/Mac-miller-in-the-bag-lyrics\n",
      "https://genius.com/Mac-miller-break-the-law-lyrics\n",
      "https://genius.com/Mac-miller-perfect-circle-god-speed-lyrics\n",
      "https://genius.com/Mac-miller-when-in-rome-lyrics\n",
      "https://genius.com/Mac-miller-ros-lyrics\n",
      "https://genius.com/Mac-miller-cut-the-check-lyrics\n",
      "https://genius.com/Mac-miller-ascension-lyrics\n",
      "https://genius.com/Mac-miller-jump-lyrics\n",
      "https://genius.com/Mac-miller-the-festival-lyrics\n",
      "\n"
     ]
    },
    {
     "data": {
      "application/vnd.jupyter.widget-view+json": {
       "model_id": "b6538752703a444fb3e2594e3df38e06",
       "version_major": 2,
       "version_minor": 0
      },
      "text/plain": [
       "HBox(children=(HTML(value=''), FloatProgress(value=0.0, max=24.0), HTML(value='')))"
      ]
     },
     "metadata": {},
     "output_type": "display_data"
    },
    {
     "name": "stdout",
     "output_type": "stream",
     "text": [
      "https://genius.com/Mac-miller-inside-outside-lyrics\n",
      "https://genius.com/Mac-miller-here-we-go-lyrics\n",
      "https://genius.com/Mac-miller-friends-lyrics\n",
      "https://genius.com/Mac-miller-angel-dust-lyrics\n",
      "https://genius.com/Mac-miller-malibu-lyrics\n",
      "https://genius.com/Mac-miller-what-do-you-do-lyrics\n",
      "https://genius.com/Mac-miller-it-just-doesnt-matter-lyrics\n",
      "https://genius.com/Mac-miller-therapy-lyrics\n",
      "https://genius.com/Mac-miller-polo-jeans-lyrics\n",
      "https://genius.com/Mac-miller-happy-birthday-lyrics\n",
      "https://genius.com/Mac-miller-wedding-lyrics\n",
      "https://genius.com/Mac-miller-funeral-lyrics\n",
      "https://genius.com/Mac-miller-diablo-lyrics\n",
      "https://genius.com/Mac-miller-ave-maria-lyrics\n",
      "https://genius.com/Mac-miller-55-lyrics\n",
      "https://genius.com/Mac-miller-san-francisco-lyrics\n",
      "https://genius.com/Mac-miller-colors-and-shapes-lyrics\n",
      "https://genius.com/Mac-miller-insomniak-lyrics\n",
      "https://genius.com/Mac-miller-uber-lyrics\n",
      "https://genius.com/Mac-miller-rain-lyrics\n",
      "https://genius.com/Mac-miller-apparition-lyrics\n",
      "https://genius.com/Mac-miller-thumbalina-lyrics\n",
      "https://genius.com/Mac-miller-new-faces-v2-lyrics\n",
      "https://genius.com/Mac-miller-grand-finale-lyrics\n",
      "\n"
     ]
    },
    {
     "data": {
      "application/vnd.jupyter.widget-view+json": {
       "model_id": "c5d882c0eae246bbb0d982613f764c59",
       "version_major": 2,
       "version_minor": 0
      },
      "text/plain": [
       "HBox(children=(HTML(value=''), FloatProgress(value=0.0, max=14.0), HTML(value='')))"
      ]
     },
     "metadata": {},
     "output_type": "display_data"
    },
    {
     "name": "stdout",
     "output_type": "stream",
     "text": [
      "https://genius.com/Mac-miller-sds-live-lyrics\n",
      "https://genius.com/Mac-miller-the-star-room-killin-time-live-lyrics\n",
      "https://genius.com/Mac-miller-best-day-ever-live-lyrics\n",
      "https://genius.com/Mac-miller-bird-call-live-lyrics\n",
      "https://genius.com/Mac-miller-watching-movies-live-lyrics\n",
      "https://genius.com/Mac-miller-remember-live-lyrics\n",
      "https://genius.com/Mac-miller-the-question-live-lyrics\n",
      "https://genius.com/Mac-miller-objects-in-the-mirror-live-lyrics\n",
      "https://genius.com/Mac-miller-youforia-live-lyrics\n",
      "https://genius.com/Mac-miller-eggs-aisle-lyrics\n",
      "https://genius.com/Mac-miller-earth-lyrics\n",
      "https://genius.com/Mac-miller-life-lyrics\n",
      "https://genius.com/Mac-miller-black-bush-lyrics\n",
      "https://genius.com/Mac-miller-in-the-morning-lyrics\n",
      "\n"
     ]
    },
    {
     "data": {
      "application/vnd.jupyter.widget-view+json": {
       "model_id": "ae3c485e5d9f46e09e9285165291d4d0",
       "version_major": 2,
       "version_minor": 0
      },
      "text/plain": [
       "HBox(children=(HTML(value=''), FloatProgress(value=0.0, max=19.0), HTML(value='')))"
      ]
     },
     "metadata": {},
     "output_type": "display_data"
    },
    {
     "name": "stdout",
     "output_type": "stream",
     "text": [
      "https://genius.com/Mac-miller-the-star-room-lyrics\n",
      "https://genius.com/Mac-miller-avian-lyrics\n",
      "https://genius.com/Mac-miller-im-not-real-lyrics\n",
      "https://genius.com/Mac-miller-sds-lyrics\n",
      "https://genius.com/Mac-miller-bird-call-lyrics\n",
      "https://genius.com/Mac-miller-matches-lyrics\n",
      "https://genius.com/Mac-miller-i-am-who-am-killin-time-lyrics\n",
      "https://genius.com/Mac-miller-objects-in-the-mirror-lyrics\n",
      "https://genius.com/Mac-miller-red-dot-music-lyrics\n",
      "https://genius.com/Mac-miller-gees-lyrics\n",
      "https://genius.com/Mac-miller-watching-movies-lyrics\n",
      "https://genius.com/Mac-miller-suplexes-inside-of-complexes-and-duplexes-lyrics\n",
      "https://genius.com/Mac-miller-remember-lyrics\n",
      "https://genius.com/Mac-miller-someone-like-you-lyrics\n",
      "https://genius.com/Mac-miller-aquarium-lyrics\n",
      "https://genius.com/Mac-miller-youforia-lyrics\n",
      "https://genius.com/Mac-miller-goosebumpz-lyrics\n",
      "https://genius.com/Mac-miller-ok-lyrics\n",
      "https://genius.com/Mac-miller-claymation-lyrics\n",
      "\n"
     ]
    },
    {
     "data": {
      "application/vnd.jupyter.widget-view+json": {
       "model_id": "a3cfc3a310834138aa93a2397c7d6a4c",
       "version_major": 2,
       "version_minor": 0
      },
      "text/plain": [
       "HBox(children=(HTML(value=''), FloatProgress(value=0.0, max=7.0), HTML(value='')))"
      ]
     },
     "metadata": {},
     "output_type": "display_data"
    },
    {
     "name": "stdout",
     "output_type": "stream",
     "text": [
      "https://genius.com/Mac-miller-sds-live-in-london-lyrics\n",
      "https://genius.com/Mac-miller-bird-call-live-in-london-lyrics\n",
      "https://genius.com/Mac-miller-watching-movies-live-in-london-lyrics\n",
      "https://genius.com/Mac-miller-gees-live-in-london-lyrics\n",
      "https://genius.com/Mac-miller-objects-in-the-mirror-live-in-london-lyrics\n",
      "https://genius.com/Mac-miller-i-am-who-am-killin-time-live-in-london-lyrics\n",
      "https://genius.com/Mac-miller-donald-trump-live-in-london-lyrics\n",
      "\n"
     ]
    },
    {
     "data": {
      "application/vnd.jupyter.widget-view+json": {
       "model_id": "7d89c6bda4c34360912d372875ba4c52",
       "version_major": 2,
       "version_minor": 0
      },
      "text/plain": [
       "HBox(children=(HTML(value=''), FloatProgress(value=0.0, max=17.0), HTML(value='')))"
      ]
     },
     "metadata": {},
     "output_type": "display_data"
    },
    {
     "name": "stdout",
     "output_type": "stream",
     "text": [
      "https://genius.com/Mac-miller-love-me-as-i-have-loved-you-lyrics\n",
      "https://genius.com/Mac-miller-desperado-lyrics\n",
      "https://genius.com/Mac-miller-loud-lyrics\n",
      "https://genius.com/Mac-miller-thoughts-from-a-balcony-lyrics\n",
      "https://genius.com/Mac-miller-aliens-fighting-robots-lyrics\n",
      "https://genius.com/Mac-miller-vitamins-lyrics\n",
      "https://genius.com/Mac-miller-fight-the-feeling-lyrics\n",
      "https://genius.com/Mac-miller-lucky-ass-bitch-lyrics\n",
      "https://genius.com/Mac-miller-the-mourning-after-lyrics\n",
      "https://genius.com/Mac-miller-1-threw-8-lyrics\n",
      "https://genius.com/Mac-miller-ignorant-lyrics\n",
      "https://genius.com/Mac-miller-the-question-lyrics\n",
      "https://genius.com/Mac-miller-angels-when-she-shuts-her-eyes-lyrics\n",
      "https://genius.com/Mac-miller-sunlight-lyrics\n",
      "https://genius.com/Mac-miller-clarity-lyrics\n",
      "https://genius.com/Mac-miller-america-lyrics\n",
      "https://genius.com/Mac-miller-fuck-em-all-lyrics\n",
      "\n"
     ]
    },
    {
     "data": {
      "application/vnd.jupyter.widget-view+json": {
       "model_id": "d28d755e388544e0adbda3f06b381326",
       "version_major": 2,
       "version_minor": 0
      },
      "text/plain": [
       "HBox(children=(HTML(value=''), FloatProgress(value=0.0, max=18.0), HTML(value='')))"
      ]
     },
     "metadata": {},
     "output_type": "display_data"
    },
    {
     "name": "stdout",
     "output_type": "stream",
     "text": [
      "https://genius.com/Mac-miller-english-lane-lyrics\n",
      "https://genius.com/Mac-miller-blue-slide-park-lyrics\n",
      "https://genius.com/Mac-miller-party-on-fifth-ave-lyrics\n",
      "https://genius.com/Mac-miller-pa-nights-lyrics\n",
      "https://genius.com/Mac-miller-frick-park-market-lyrics\n",
      "https://genius.com/Mac-miller-smile-back-lyrics\n",
      "https://genius.com/Mac-miller-under-the-weather-lyrics\n",
      "https://genius.com/Mac-miller-of-the-soul-lyrics\n",
      "https://genius.com/Mac-miller-my-team-lyrics\n",
      "https://genius.com/Mac-miller-up-all-night-lyrics\n",
      "https://genius.com/Mac-miller-loitering-lyrics\n",
      "https://genius.com/Mac-miller-hole-in-my-pocket-lyrics\n",
      "https://genius.com/Mac-miller-diamonds-and-gold-lyrics\n",
      "https://genius.com/Mac-miller-missed-calls-lyrics\n",
      "https://genius.com/Mac-miller-man-in-the-hat-lyrics\n",
      "https://genius.com/Mac-miller-one-last-thing-lyrics\n",
      "https://genius.com/Mac-miller-loud-disiz-remix-lyrics\n",
      "https://genius.com/Mac-miller-of-the-soul-remix-lyrics\n",
      "\n"
     ]
    },
    {
     "data": {
      "application/vnd.jupyter.widget-view+json": {
       "model_id": "7d8c903b9f7146b8a6f11a217da7bfa0",
       "version_major": 2,
       "version_minor": 0
      },
      "text/plain": [
       "HBox(children=(HTML(value=''), FloatProgress(value=0.0, max=13.0), HTML(value='')))"
      ]
     },
     "metadata": {},
     "output_type": "display_data"
    },
    {
     "name": "stdout",
     "output_type": "stream",
     "text": [
      "https://genius.com/Mac-miller-i-love-life-thank-you-lyrics\n",
      "https://genius.com/Mac-miller-people-under-the-stairs-lyrics\n",
      "https://genius.com/Mac-miller-willie-dynamite-lyrics\n",
      "https://genius.com/Mac-miller-the-scoop-on-heaven-lyrics\n",
      "https://genius.com/Mac-miller-love-lost-lyrics\n",
      "https://genius.com/Mac-miller-pranks-4-players-lyrics\n",
      "https://genius.com/Mac-miller-cold-feet-lyrics\n",
      "https://genius.com/Mac-miller-family-first-lyrics\n",
      "https://genius.com/Mac-miller-the-miller-family-reunion-lyrics\n",
      "https://genius.com/Mac-miller-boom-bap-rap-lyrics\n",
      "https://genius.com/Mac-miller-just-a-kid-lyrics\n",
      "https://genius.com/Mac-miller-all-that-lyrics\n",
      "https://genius.com/Mac-miller-all-this-lyrics\n",
      "\n"
     ]
    },
    {
     "data": {
      "application/vnd.jupyter.widget-view+json": {
       "model_id": "cbe02538b094437ba568cfec725dc6e8",
       "version_major": 2,
       "version_minor": 0
      },
      "text/plain": [
       "HBox(children=(HTML(value=''), FloatProgress(value=0.0, max=6.0), HTML(value='')))"
      ]
     },
     "metadata": {},
     "output_type": "display_data"
    },
    {
     "name": "stdout",
     "output_type": "stream",
     "text": [
      "https://genius.com/Mac-miller-put-it-on-lyrics\n",
      "https://genius.com/Mac-miller-live-free-lyrics\n",
      "https://genius.com/Mac-miller-on-and-on-lyrics\n",
      "https://genius.com/Mac-miller-life-aint-easy-lyrics\n",
      "https://genius.com/Mac-miller-in-the-air-lyrics\n",
      "https://genius.com/Mac-miller-another-night-lyrics\n",
      "\n"
     ]
    },
    {
     "data": {
      "application/vnd.jupyter.widget-view+json": {
       "model_id": "5fdfa77e71724913a1cc12f53050875a",
       "version_major": 2,
       "version_minor": 0
      },
      "text/plain": [
       "HBox(children=(HTML(value=''), FloatProgress(value=0.0, max=16.0), HTML(value='')))"
      ]
     },
     "metadata": {},
     "output_type": "display_data"
    },
    {
     "name": "stdout",
     "output_type": "stream",
     "text": [
      "https://genius.com/Mac-miller-best-day-ever-lyrics\n",
      "https://genius.com/Mac-miller-get-up-lyrics\n",
      "https://genius.com/Mac-miller-donald-trump-lyrics\n",
      "https://genius.com/Mac-miller-oy-vey-lyrics\n",
      "https://genius.com/Mac-miller-ill-be-there-lyrics\n",
      "https://genius.com/Mac-miller-wear-my-hat-lyrics\n",
      "https://genius.com/Mac-miller-wake-up-lyrics\n",
      "https://genius.com/Mac-miller-all-around-the-world-lyrics\n",
      "https://genius.com/Mac-miller-down-the-rabbit-hole-lyrics\n",
      "https://genius.com/Mac-miller-play-ya-cards-lyrics\n",
      "https://genius.com/Mac-miller-she-said-lyrics\n",
      "https://genius.com/Mac-miller-snooze-lyrics\n",
      "https://genius.com/Mac-miller-keep-floatin-lyrics\n",
      "https://genius.com/Mac-miller-bde-bonus-lyrics\n",
      "\n"
     ]
    },
    {
     "data": {
      "application/vnd.jupyter.widget-view+json": {
       "model_id": "34913ae7663d40b9ac90dde24f9ec8ee",
       "version_major": 2,
       "version_minor": 0
      },
      "text/plain": [
       "HBox(children=(HTML(value=''), FloatProgress(value=0.0, max=18.0), HTML(value='')))"
      ]
     },
     "metadata": {},
     "output_type": "display_data"
    },
    {
     "name": "stdout",
     "output_type": "stream",
     "text": [
      "https://genius.com/Mac-miller-traffic-in-the-sky-lyrics\n",
      "https://genius.com/Mac-miller-la-la-la-la-lyrics\n",
      "\n"
     ]
    },
    {
     "data": {
      "application/vnd.jupyter.widget-view+json": {
       "model_id": "48c30240023b42478f3a4c130d667b5a",
       "version_major": 2,
       "version_minor": 0
      },
      "text/plain": [
       "HBox(children=(HTML(value=''), FloatProgress(value=0.0, max=21.0), HTML(value='')))"
      ]
     },
     "metadata": {},
     "output_type": "display_data"
    },
    {
     "name": "stdout",
     "output_type": "stream",
     "text": [
      "https://genius.com/Mac-miller-the-high-life-lyrics\n",
      "https://genius.com/Mac-miller-ridin-high-lyrics\n",
      "https://genius.com/Mac-miller-musical-chairs-lyrics\n",
      "https://genius.com/Mac-miller-crushin-round-the-clock-lyrics\n",
      "https://genius.com/Mac-miller-5-oclock-lyrics\n",
      "https://genius.com/Mac-miller-jerome-weinberg-speaks-interlude-lyrics\n",
      "https://genius.com/Mac-miller-class-president-lyrics\n",
      "https://genius.com/Mac-miller-a-million-dollars-lyrics\n",
      "https://genius.com/Mac-miller-im-ready-lyrics\n",
      "https://genius.com/Mac-miller-fly-in-her-nikes-lyrics\n",
      "https://genius.com/Mac-miller-the-finer-things-lyrics\n",
      "https://genius.com/Mac-miller-travelin-man-09-lyrics\n",
      "https://genius.com/Mac-miller-cruise-control-lyrics\n",
      "https://genius.com/Mac-miller-one-of-a-kind-lyrics\n",
      "https://genius.com/Mac-miller-foolin-around-lyrics\n",
      "https://genius.com/Mac-miller-castle-made-of-sand-lyrics\n",
      "https://genius.com/Mac-miller-just-my-imagination-lyrics\n",
      "https://genius.com/Mac-miller-thanks-for-coming-out-lyrics\n",
      "https://genius.com/Mac-miller-pen-game-lyrics\n",
      "\n"
     ]
    },
    {
     "data": {
      "application/vnd.jupyter.widget-view+json": {
       "model_id": "a5206278157a46c1b247094010369f3a",
       "version_major": 2,
       "version_minor": 0
      },
      "text/plain": [
       "HBox(children=(HTML(value=''), FloatProgress(value=0.0, max=21.0), HTML(value='')))"
      ]
     },
     "metadata": {},
     "output_type": "display_data"
    },
    {
     "name": "stdout",
     "output_type": "stream",
     "text": [
      "https://genius.com/Mac-miller-intro-the-jukebox-annotated\n",
      "https://genius.com/Mac-miller-sound-like-lyrics\n",
      "https://genius.com/Mac-miller-barz-for-dayz-lyrics\n",
      "https://genius.com/Mac-miller-pa-hustla-lyrics\n",
      "https://genius.com/Mac-miller-what-up-cousin-lyrics\n",
      "https://genius.com/Mac-miller-got-a-clue-lyrics\n",
      "https://genius.com/Mac-miller-get-it-on-the-floor-lyrics\n",
      "https://genius.com/Mac-miller-late-night-lyrics\n",
      "https://genius.com/Mac-miller-cruisin-lyrics\n",
      "https://genius.com/Mac-miller-swing-set-lyrics\n",
      "https://genius.com/Mac-miller-love-my-name-lyrics\n",
      "https://genius.com/Mac-miller-snap-back-lyrics\n",
      "https://genius.com/Mac-miller-js-on-my-feet-lyrics\n",
      "https://genius.com/Mac-miller-on-some-real-shit-100000-bars-lyrics\n",
      "https://genius.com/Mac-miller-the-chow-line-lyrics\n",
      "https://genius.com/Mac-miller-a-night-in-the-studio-lyrics\n",
      "https://genius.com/Mac-miller-my-lady-lyrics\n",
      "https://genius.com/Mac-miller-comin-soon-lyrics\n",
      "https://genius.com/Mac-miller-keep-me-alive-lyrics\n",
      "https://genius.com/Mac-miller-so-far-to-go-lyrics\n",
      "https://genius.com/Mac-miller-keep-it-rollin-lyrics\n",
      "\n"
     ]
    },
    {
     "data": {
      "application/vnd.jupyter.widget-view+json": {
       "model_id": "1097b0a5b2ec489e86c92046fa3c9116",
       "version_major": 2,
       "version_minor": 0
      },
      "text/plain": [
       "HBox(children=(HTML(value=''), FloatProgress(value=0.0, max=17.0), HTML(value='')))"
      ]
     },
     "metadata": {},
     "output_type": "display_data"
    },
    {
     "name": "stdout",
     "output_type": "stream",
     "text": [
      "https://genius.com/Mac-miller-mackin-aint-easy-lyrics\n",
      "https://genius.com/Mac-miller-warhead-lyrics\n",
      "https://genius.com/Mac-miller-hey-you-lyrics\n",
      "https://genius.com/Mac-miller-dead-presidents-lyrics\n",
      "https://genius.com/Mac-miller-good-days-are-gone-lyrics\n",
      "https://genius.com/Mac-miller-kick-push-lyrics\n",
      "https://genius.com/Mac-miller-thanks-for-comin-out-lyrics\n",
      "\n"
     ]
    },
    {
     "data": {
      "application/vnd.jupyter.widget-view+json": {
       "model_id": "3d76b62587c04dd7af757d8a9bf98bef",
       "version_major": 2,
       "version_minor": 0
      },
      "text/plain": [
       "HBox(children=(HTML(value=''), FloatProgress(value=0.0, max=10.0), HTML(value='')))"
      ]
     },
     "metadata": {},
     "output_type": "display_data"
    },
    {
     "name": "stdout",
     "output_type": "stream",
     "text": [
      "https://genius.com/Mac-miller-come-around-lyrics\n",
      "https://genius.com/Mac-miller-get-mines-lyrics\n",
      "https://genius.com/Mac-miller-in-love-with-this-bud-lyrics\n",
      "https://genius.com/Mac-miller-my-biography-lyrics\n",
      "https://genius.com/Mac-miller-smoke-signals-lyrics\n",
      "https://genius.com/Mac-miller-take-me-to-paradise-lyrics\n",
      "\n"
     ]
    },
    {
     "data": {
      "application/vnd.jupyter.widget-view+json": {
       "model_id": "4ea7605450a7400a9915b160912fe986",
       "version_major": 2,
       "version_minor": 0
      },
      "text/plain": [
       "HBox(children=(HTML(value=''), FloatProgress(value=0.0, max=16.0), HTML(value='')))"
      ]
     },
     "metadata": {},
     "output_type": "display_data"
    },
    {
     "name": "stdout",
     "output_type": "stream",
     "text": [
      "https://genius.com/Mac-miller-tambourine-dream-lyrics\n",
      "https://genius.com/Mac-miller-the-song-that-changed-everything-lyrics\n",
      "https://genius.com/Mac-miller-do-you-have-a-destination-lyrics\n",
      "https://genius.com/Mac-miller-mrs-deborah-downer-lyrics\n",
      "https://genius.com/Mac-miller-stoned-lyrics\n",
      "https://genius.com/Mac-miller-colors-and-shapes-demo-lyrics\n",
      "https://genius.com/Mac-miller-excelsior-lyrics\n",
      "https://genius.com/Mac-miller-friendly-hallucinations-lyrics\n",
      "https://genius.com/Mac-miller-funny-papers-lyrics\n",
      "https://genius.com/Mac-miller-manakins-lyrics\n",
      "https://genius.com/Mac-miller-he-finally-sleeps-lyrics\n",
      "https://genius.com/Mac-miller-transformations-lyrics\n",
      "https://genius.com/Mac-miller-uber-demo-lyrics\n",
      "https://genius.com/Mac-miller-smile-demo-lyrics\n",
      "https://genius.com/Mac-miller-tomorrow-will-never-know-lyrics\n",
      "https://genius.com/Mac-miller-bobs-dementia-lyrics\n",
      "\n"
     ]
    },
    {
     "data": {
      "application/vnd.jupyter.widget-view+json": {
       "model_id": "14f1af65ee204337927331b4bd72cfd2",
       "version_major": 2,
       "version_minor": 0
      },
      "text/plain": [
       "HBox(children=(HTML(value=''), FloatProgress(value=0.0, max=128.0), HTML(value='')))"
      ]
     },
     "metadata": {},
     "output_type": "display_data"
    },
    {
     "name": "stdout",
     "output_type": "stream",
     "text": [
      "https://genius.com/Mac-miller-superweirdo-freestyle-lyrics\n",
      "https://genius.com/Mac-miller-nervous-breakdown-lyrics\n",
      "https://genius.com/Mac-miller-stupid-lyrics\n",
      "https://genius.com/Mac-miller-empires-lyrics\n",
      "https://genius.com/Mac-miller-coolin-lyrics\n",
      "https://genius.com/Mac-miller-cat-and-mouse-lyrics\n",
      "https://genius.com/Mac-miller-start-a-revolution-lyrics\n",
      "https://genius.com/Mac-miller-your-shoes-are-untied-lyrics\n",
      "https://genius.com/Mac-miller-when-i-was-young-lyrics\n",
      "https://genius.com/Mac-miller-what-made-me-this-way-lyrics\n",
      "https://genius.com/Mac-miller-what-i-need-head-lyrics\n",
      "https://genius.com/Mac-miller-weekend-demo-lyrics\n",
      "https://genius.com/Mac-miller-waterfalls-lyrics\n",
      "https://genius.com/Mac-miller-watch-the-sun-come-up-lyrics\n",
      "https://genius.com/Mac-miller-wake-up-2019-lyrics\n",
      "https://genius.com/Mac-miller-untitled-snippet-4-7-20-lyrics\n",
      "https://genius.com/Mac-miller-untitled-snippet-2-26-13-lyrics\n",
      "https://genius.com/Mac-miller-unhappy-lyrics\n",
      "https://genius.com/Mac-miller-tv-lyrics\n",
      "https://genius.com/Mac-miller-the-sun-room-lyrics\n",
      "https://genius.com/Mac-miller-the-river-lyrics\n",
      "https://genius.com/Mac-miller-the-network-lyrics\n",
      "https://genius.com/Mac-miller-the-game-of-life-lyrics\n",
      "https://genius.com/Mac-miller-the-bargain-lyrics\n",
      "https://genius.com/Mac-miller-tetanus-shots-lyrics\n",
      "https://genius.com/Mac-miller-telescope-woods-demo-lyrics\n",
      "https://genius.com/Mac-miller-sunday-lyrics\n",
      "https://genius.com/Mac-miller-submarines-lyrics\n",
      "https://genius.com/Mac-miller-stop-complainin-lyrics\n",
      "https://genius.com/Mac-miller-special-lyrics\n",
      "https://genius.com/Mac-miller-slapboxin-lyrics\n",
      "https://genius.com/Maclib-shut-the-front-door-lyrics\n",
      "https://genius.com/Mac-miller-she-mine-lyrics\n",
      "https://genius.com/Mac-miller-she-knows-too-much-lyrics\n",
      "https://genius.com/Mac-miller-real-version-2-lyrics\n",
      "https://genius.com/Mac-miller-real-lyrics\n",
      "https://genius.com/Mac-miller-ready-set-start-lyrics\n",
      "https://genius.com/Mac-miller-pure-lyrics\n",
      "https://genius.com/Mac-miller-problem-lyrics\n",
      "https://genius.com/Mac-miller-perfect-circle-god-speed-demo-lyrics\n",
      "https://genius.com/Mac-miller-paid-dues-the-reunion-lyrics\n",
      "https://genius.com/Mac-miller-outsiders-og-lyrics\n",
      "https://genius.com/Mac-miller-oracle-lyrics\n",
      "https://genius.com/Mac-miller-operation-love-lyrics\n",
      "https://genius.com/Mac-miller-one-night-lyrics\n",
      "https://genius.com/Mac-miller-one-and-only-lyrics\n",
      "https://genius.com/Mac-miller-o-captain-my-dragons-lyrics\n",
      "https://genius.com/Mac-miller-numbness-lyrics\n",
      "https://genius.com/Mac-miller-now-that-you-hear-lyrics\n",
      "https://genius.com/Mac-miller-nothing-on-me-lyrics\n",
      "https://genius.com/Mac-miller-newspaper-lyrics\n",
      "https://genius.com/Mac-miller-nasa-lyrics\n",
      "https://genius.com/Mac-miller-must-be-lyrics\n",
      "https://genius.com/Mac-miller-more-lyrics\n",
      "https://genius.com/Mac-miller-merry-go-round-lyrics\n",
      "https://genius.com/Mac-miller-look-at-you-lyrics\n",
      "https://genius.com/Mac-miller-live-to-tell-lyrics\n",
      "https://genius.com/Mac-miller-laundromat-lyrics\n",
      "https://genius.com/Mac-miller-key-to-the-city-lyrics\n",
      "https://genius.com/Mac-miller-the-weather-lyrics\n",
      "https://genius.com/Mac-miller-ticonderogas-lyrics\n",
      "https://genius.com/Mac-miller-it-gets-better-lyrics\n",
      "https://genius.com/Mac-miller-insane-lyrics\n",
      "https://genius.com/Mac-miller-incompatible-lyrics\n",
      "https://genius.com/Mac-miller-in-kindergarten-lyrics\n",
      "https://genius.com/Mac-miller-improve-lyrics\n",
      "https://genius.com/Mac-miller-i-got-this-beat-in-my-head-lyrics\n",
      "https://genius.com/Mac-miller-i-dont-trust-these-bitches-lyrics\n",
      "https://genius.com/Mac-miller-hos-go-crazy-lyrics\n",
      "https://genius.com/Mac-miller-hold-on-let-go-lyrics\n",
      "https://genius.com/Mac-miller-hide-and-seek-lyrics\n",
      "https://genius.com/Mac-miller-guitar-case-hand-me-downs-demo-lyrics\n",
      "https://genius.com/Mac-miller-ground-rules-lyrics\n",
      "https://genius.com/Mac-miller-great-job-lyrics\n",
      "https://genius.com/Mac-miller-garden-snakes-lyrics\n",
      "https://genius.com/Mac-miller-g-wagon-lyrics\n",
      "https://genius.com/Mac-miller-friday-night-lights-lyrics\n",
      "https://genius.com/Mac-miller-family-lives-lyrics\n",
      "https://genius.com/Mac-miller-drop-it-snippet-lyrics\n",
      "https://genius.com/Mac-miller-dreams-lyrics\n",
      "https://genius.com/Mac-miller-dont-do-lyrics\n",
      "https://genius.com/Mac-miller-dollar-pony-rides-lyrics\n",
      "https://genius.com/Mac-miller-dog-pound-lyrics\n",
      "https://genius.com/Mac-miller-divine-love-lyrics\n",
      "https://genius.com/Mac-miller-dig-that-lyrics\n",
      "https://genius.com/Mac-miller-die-lyrics\n",
      "https://genius.com/Mac-miller-definition-of-cool-lyrics\n",
      "https://genius.com/Mac-miller-deeper-than-pink-lyrics\n",
      "https://genius.com/Mac-miller-curious-lyrics\n",
      "https://genius.com/Mac-miller-crickets-lyrics\n",
      "https://genius.com/Mac-miller-checklist-onaroll-demo-lyrics\n",
      "https://genius.com/Mac-miller-cats-lyrics\n",
      "https://genius.com/Mac-miller-came-alone-lyrics\n",
      "https://genius.com/Mac-miller-cactus-face-lyrics\n",
      "https://genius.com/Mac-miller-cablebox-lyrics\n",
      "https://genius.com/Mac-miller-butterflies-lyrics\n",
      "https://genius.com/Mac-miller-bump-demon-lyrics\n",
      "https://genius.com/Mac-miller-blow-lyrics\n",
      "https://genius.com/Mac-miller-bloody-mary-lyrics\n",
      "https://genius.com/Mac-miller-black-balloons-reprise-lyrics\n",
      "https://genius.com/Mac-miller-bitches-lyrics\n",
      "https://genius.com/Mac-miller-bitch-i-make-that-booty-go-lyrics\n",
      "https://genius.com/Mac-miller-benji-the-dog-thats-life-demo-lyrics\n",
      "https://genius.com/Mac-miller-are-we-there-yet-lyrics\n",
      "https://genius.com/Mac-miller-anywhere-but-here-lyrics\n",
      "https://genius.com/Mac-miller-amnesia-lyrics\n",
      "https://genius.com/Mac-miller-alarm-lyrics\n",
      "https://genius.com/Mac-miller-aint-lookin-for-love-lyrics\n",
      "https://genius.com/Mac-miller-8-21-am-lyrics\n",
      "https://genius.com/Mac-miller-6-30-lyrics\n",
      "https://genius.com/Mac-miller-25-8-lyrics\n",
      "https://genius.com/Mac-miller-talk-to-me-lyrics\n",
      "\n",
      "\n"
     ]
    }
   ],
   "source": [
    "data = []\n",
    "processed_songs = []\n",
    "for album_url in tqdm(album_urls):\n",
    "    song_urls = get_songs_url_from_album_page(album_url)\n",
    "    for song_url in tqdm(song_urls):\n",
    "        if song_url in songs404 or song_url in processed_songs:\n",
    "            continue\n",
    "        processed_songs.append(song_url)\n",
    "        song_data = get_song_data_form_song_url(song_url)\n",
    "        song_data[\"url\"] = song_url\n",
    "        data.append(song_data)\n",
    "        time.sleep(random.random())\n",
    "    with open(os.path.join(data_dir, \"raw_lyrics.json\"), \"w\") as fh:\n",
    "        json.dump(data, fh, ensure_ascii=False)"
   ]
  },
  {
   "cell_type": "code",
   "execution_count": null,
   "metadata": {},
   "outputs": [],
   "source": []
  }
 ],
 "metadata": {
  "kernelspec": {
   "display_name": "Python 3",
   "language": "python",
   "name": "python3"
  },
  "language_info": {
   "codemirror_mode": {
    "name": "ipython",
    "version": 3
   },
   "file_extension": ".py",
   "mimetype": "text/x-python",
   "name": "python",
   "nbconvert_exporter": "python",
   "pygments_lexer": "ipython3",
   "version": "3.8.2"
  }
 },
 "nbformat": 4,
 "nbformat_minor": 4
}
